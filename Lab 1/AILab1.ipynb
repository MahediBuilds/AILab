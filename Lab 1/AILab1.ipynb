{
  "nbformat": 4,
  "nbformat_minor": 0,
  "metadata": {
    "colab": {
      "provenance": [],
      "authorship_tag": "ABX9TyPH8y3+JGAWhhHtcM+Q3J/Z",
      "include_colab_link": true
    },
    "kernelspec": {
      "name": "python3",
      "display_name": "Python 3"
    },
    "language_info": {
      "name": "python"
    }
  },
  "cells": [
    {
      "cell_type": "markdown",
      "metadata": {
        "id": "view-in-github",
        "colab_type": "text"
      },
      "source": [
        "<a href=\"https://colab.research.google.com/github/MahediBuilds/AILab/blob/main/Lab%201/AILab1.ipynb\" target=\"_parent\"><img src=\"https://colab.research.google.com/assets/colab-badge.svg\" alt=\"Open In Colab\"/></a>"
      ]
    },
    {
      "cell_type": "markdown",
      "source": [
        "Vaccum cleaner agent"
      ],
      "metadata": {
        "id": "5QtYPLmD050a"
      }
    },
    {
      "cell_type": "code",
      "source": [
        "print(\"Vacuum Cleaner\")\n",
        "\n",
        "A=[1,1]\n",
        "B=[0,1]\n",
        "\n",
        "def cleanCheck(A,B):\n",
        "  if(A[1] == 0 and B[1] == 0):\n",
        "    return True\n",
        "  else:\n",
        "    return False\n",
        "def clean_room():\n",
        "  print(\"Initial State: Room A\",A,\", Room B\",B)\n",
        "\n",
        "  while not cleanCheck(A,B):\n",
        "\n",
        "    if(A[0] == 1):\n",
        "      A[1] = 0\n",
        "      A[0] = 0\n",
        "      B[0] = 1\n",
        "      print(\"Vacuum cleaner moved to room B. Room A cleaned.\")\n",
        "\n",
        "    elif(B[0] == 1):\n",
        "      B[1] = 0\n",
        "      B[0] = 0\n",
        "      A[0] = 1\n",
        "      print(\"Vacuum cleaner moved to room A. Room B cleaned.\")\n",
        "\n",
        "  print(\"Final State: Room A\",A,\", Room B\",B)\n",
        "\n",
        "clean_room()"
      ],
      "metadata": {
        "colab": {
          "base_uri": "https://localhost:8080/"
        },
        "id": "lsj-2w3x09pp",
        "outputId": "5a7a51c5-461d-43f2-c525-8e9f114a3164"
      },
      "execution_count": null,
      "outputs": [
        {
          "output_type": "stream",
          "name": "stdout",
          "text": [
            "Vacuum Cleaner\n",
            "Initial State: Room A [1, 1] , Room B [0, 1]\n",
            "Vacuum cleaner moved to room B. Room A cleaned.\n",
            "Vacuum cleaner moved to room A. Room B cleaned.\n",
            "Final State: Room A [1, 0] , Room B [0, 0]\n"
          ]
        }
      ]
    },
    {
      "cell_type": "markdown",
      "source": [
        "TicTacToe Game"
      ],
      "metadata": {
        "id": "ajwY-kx-wG2j"
      }
    },
    {
      "cell_type": "code",
      "metadata": {
        "colab": {
          "base_uri": "https://localhost:8080/"
        },
        "id": "Mnoevmlvn2NJ",
        "outputId": "7c28baa4-9313-4743-8757-492be912cb9d"
      },
      "source": [
        "grid = [\" \", \" \", \" \",\n",
        "        \" \", \" \", \" \",\n",
        "        \" \", \" \", \" \"]\n",
        "\n",
        "def display_grid_state():\n",
        "    print(grid[0] + \" | \" + grid[1] + \" | \" + grid[2])\n",
        "    print(\"---------\")\n",
        "    print(grid[3] + \" | \" + grid[4] + \" | \" + grid[5])\n",
        "    print(\"---------\")\n",
        "    print(grid[6] + \" | \" + grid[7] + \" | \" + grid[8])\n",
        "\n",
        "def process_player_turn(current_marker_symbol):\n",
        "    print(f\"{current_marker_symbol}'s turn to play.\")\n",
        "    user_input_choice = input(\"Select a square (1-9): \")\n",
        "\n",
        "    while user_input_choice not in [str(i) for i in range(1, 10)]:\n",
        "        user_input_choice = input(\"Invalid input. Select a square (1-9): \")\n",
        "        print(\"\")\n",
        "    grid_position_index = int(user_input_choice) - 1\n",
        "\n",
        "    while grid[grid_position_index] != \" \":\n",
        "        grid_position_index = int(input(\"Square occupied. Pick another: \")) - 1\n",
        "    grid[grid_position_index] = current_marker_symbol\n",
        "    display_grid_state()\n",
        "\n",
        "def determine_game_status():\n",
        "    if (grid[0] == grid[1] == grid[2] != \" \") or \\\n",
        "       (grid[3] == grid[4] == grid[5] != \" \") or \\\n",
        "       (grid[6] == grid[7] == grid[8] != \" \") or \\\n",
        "       (grid[0] == grid[3] == grid[6] != \" \") or \\\n",
        "       (grid[1] == grid[4] == grid[7] != \" \") or \\\n",
        "       (grid[2] == grid[5] == grid[8] != \" \") or \\\n",
        "       (grid[0] == grid[4] == grid[8] != \" \") or \\\n",
        "       (grid[2] == grid[4] == grid[6] != \" \"):\n",
        "        return \"win\"\n",
        "\n",
        "    elif \" \" not in grid:\n",
        "        return \"tie\"\n",
        "\n",
        "    else:\n",
        "        return \"play\"\n",
        "\n",
        "\n",
        "def execute_game_match():\n",
        "    display_grid_state()\n",
        "    active_player_symbol = \"X\"\n",
        "    match_completed = False\n",
        "    while not match_completed:\n",
        "        process_player_turn(active_player_symbol)\n",
        "        match_outcome = determine_game_status()\n",
        "        if match_outcome == \"win\":\n",
        "            print(f\"{active_player_symbol} is the winner!\")\n",
        "            match_completed = True\n",
        "        elif match_outcome == \"tie\":\n",
        "            print(\"The match is a draw!\")\n",
        "            match_completed = True\n",
        "        else:\n",
        "            active_player_symbol = \"O\" if active_player_symbol == \"X\" else \"X\"\n",
        "\n",
        "execute_game_match()"
      ],
      "execution_count": null,
      "outputs": [
        {
          "output_type": "stream",
          "name": "stdout",
          "text": [
            "  |   |  \n",
            "---------\n",
            "  |   |  \n",
            "---------\n",
            "  |   |  \n",
            "X's turn to play.\n",
            "Select a square (1-9): 2\n",
            "  | X |  \n",
            "---------\n",
            "  |   |  \n",
            "---------\n",
            "  |   |  \n",
            "O's turn to play.\n",
            "Select a square (1-9): 1\n",
            "O | X |  \n",
            "---------\n",
            "  |   |  \n",
            "---------\n",
            "  |   |  \n",
            "X's turn to play.\n",
            "Select a square (1-9): 4\n",
            "O | X |  \n",
            "---------\n",
            "X |   |  \n",
            "---------\n",
            "  |   |  \n",
            "O's turn to play.\n",
            "Select a square (1-9): 7\n",
            "O | X |  \n",
            "---------\n",
            "X |   |  \n",
            "---------\n",
            "O |   |  \n",
            "X's turn to play.\n",
            "Select a square (1-9): 3\n",
            "O | X | X\n",
            "---------\n",
            "X |   |  \n",
            "---------\n",
            "O |   |  \n",
            "O's turn to play.\n",
            "Select a square (1-9): 5\n",
            "O | X | X\n",
            "---------\n",
            "X | O |  \n",
            "---------\n",
            "O |   |  \n",
            "X's turn to play.\n",
            "Select a square (1-9): 9\n",
            "O | X | X\n",
            "---------\n",
            "X | O |  \n",
            "---------\n",
            "O |   | X\n",
            "O's turn to play.\n",
            "Select a square (1-9): 4\n",
            "Square occupied. Pick another: 9\n",
            "Square occupied. Pick another: 6\n",
            "O | X | X\n",
            "---------\n",
            "X | O | O\n",
            "---------\n",
            "O |   | X\n",
            "X's turn to play.\n",
            "Select a square (1-9): 8\n",
            "O | X | X\n",
            "---------\n",
            "X | O | O\n",
            "---------\n",
            "O | X | X\n",
            "The match is a draw!\n"
          ]
        }
      ]
    }
  ]
}