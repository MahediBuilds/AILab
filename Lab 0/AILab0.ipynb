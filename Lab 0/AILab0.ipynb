{
  "nbformat": 4,
  "nbformat_minor": 0,
  "metadata": {
    "colab": {
      "provenance": [],
      "authorship_tag": "ABX9TyNIWzDLgNH/r+LAAsjzkMdW",
      "include_colab_link": true
    },
    "kernelspec": {
      "name": "python3",
      "display_name": "Python 3"
    },
    "language_info": {
      "name": "python"
    }
  },
  "cells": [
    {
      "cell_type": "markdown",
      "metadata": {
        "id": "view-in-github",
        "colab_type": "text"
      },
      "source": [
        "<a href=\"https://colab.research.google.com/github/MahediBuilds/AILab/blob/main/Lab%200/AILab0.ipynb\" target=\"_parent\"><img src=\"https://colab.research.google.com/assets/colab-badge.svg\" alt=\"Open In Colab\"/></a>"
      ]
    },
    {
      "cell_type": "markdown",
      "source": [
        "Practice program"
      ],
      "metadata": {
        "id": "18sX0RXncmce"
      }
    },
    {
      "cell_type": "code",
      "execution_count": null,
      "metadata": {
        "colab": {
          "base_uri": "https://localhost:8080/"
        },
        "id": "naTiwPtZV0XF",
        "outputId": "a214e39e-fbf9-4f5d-a6ed-b5fc8ce4bdff"
      },
      "outputs": [
        {
          "output_type": "stream",
          "name": "stdout",
          "text": [
            "Welcome\n",
            "num 1 :3\n",
            "num 2 : 5\n",
            "Choose the operation : +\n",
            "3  +  5  =  8\n"
          ]
        }
      ],
      "source": [
        "def sum(a, b):\n",
        "  c = a + b\n",
        "  return c\n",
        "\n",
        "def product(a, b):\n",
        "  c = a * b\n",
        "  return c\n",
        "\n",
        "def subtraction(a, b):\n",
        "  c = a - b\n",
        "  return c\n",
        "\n",
        "def division(a, b):\n",
        "  c = a / b\n",
        "  return c\n",
        "\n",
        "def main():\n",
        "  print(\"Welcome\")\n",
        "  a = int(input(\"num 1 :\"))\n",
        "  b = int(input(\"num 2 : \"))\n",
        "\n",
        "  option = input(\"Choose the operation : \")\n",
        "\n",
        "  if(option == \"+\"):\n",
        "    print(a ,\" + \", b, \" = \", sum(a, b))\n",
        "  elif(option == \"-\"):\n",
        "    print(a ,\" - \", b, \" = \", subtraction(a, b))\n",
        "  elif(option == \"*\"):\n",
        "    print(a ,\" * \", b, \" = \", product(a, b))\n",
        "  elif(option == \"/\"):\n",
        "    print(a ,\" / \", b, \" = \", division(a, b))\n",
        "  else:\n",
        "    print(\"Unidentified symbol\")\n",
        "\n",
        "main()"
      ]
    },
    {
      "cell_type": "markdown",
      "source": [
        "Write a program to find largest of three numbers. Take input from user"
      ],
      "metadata": {
        "id": "Zal3U6FZb40-"
      }
    },
    {
      "cell_type": "code",
      "source": [
        "def Largest(a, b, c):\n",
        "  largest = a\n",
        "  if(b > a):\n",
        "    largest = b\n",
        "  if(c > a):\n",
        "    largest = c\n",
        "\n",
        "  return largest\n",
        "\n",
        "def main():\n",
        "  a = int(input(\"Num 1 : \"))\n",
        "  b = int(input(\"Num 2 : \"))\n",
        "  c = int(input(\"Num 3 : \"))\n",
        "\n",
        "  print(\"The largest is : \", Largest(a, b, c))\n",
        "\n",
        "main()"
      ],
      "metadata": {
        "colab": {
          "base_uri": "https://localhost:8080/"
        },
        "id": "XEsv6mEDcBVF",
        "outputId": "b9ef55e3-1e63-4d7b-b27b-52951cdb81fa"
      },
      "execution_count": null,
      "outputs": [
        {
          "output_type": "stream",
          "name": "stdout",
          "text": [
            "Num 1 : 2\n",
            "Num 2 : 4\n",
            "Num 3 : 10\n",
            "The largest is :  10\n"
          ]
        }
      ]
    },
    {
      "cell_type": "markdown",
      "source": [
        "Write mulitplication table from 1 to 10"
      ],
      "metadata": {
        "id": "qk-w3U8bcDbV"
      }
    },
    {
      "cell_type": "code",
      "source": [
        "def genTable(a):\n",
        "  print(a, \"'s Table\")\n",
        "  for i in range(1, 11):\n",
        "    result = a * i\n",
        "    print(a, \" * \", i, \" \\t= \", result)\n",
        "\n",
        "\n",
        "def main():\n",
        "  for i in range(1, 11):\n",
        "    genTable(i)\n",
        "    print()\n",
        "\n",
        "main()"
      ],
      "metadata": {
        "colab": {
          "base_uri": "https://localhost:8080/"
        },
        "id": "ug415zRFcIMt",
        "outputId": "46a987da-e652-47a8-a836-443ec0636d03"
      },
      "execution_count": null,
      "outputs": [
        {
          "output_type": "stream",
          "name": "stdout",
          "text": [
            "1 's Table\n",
            "1  *  1  \t=  1\n",
            "1  *  2  \t=  2\n",
            "1  *  3  \t=  3\n",
            "1  *  4  \t=  4\n",
            "1  *  5  \t=  5\n",
            "1  *  6  \t=  6\n",
            "1  *  7  \t=  7\n",
            "1  *  8  \t=  8\n",
            "1  *  9  \t=  9\n",
            "1  *  10  \t=  10\n",
            "\n",
            "2 's Table\n",
            "2  *  1  \t=  2\n",
            "2  *  2  \t=  4\n",
            "2  *  3  \t=  6\n",
            "2  *  4  \t=  8\n",
            "2  *  5  \t=  10\n",
            "2  *  6  \t=  12\n",
            "2  *  7  \t=  14\n",
            "2  *  8  \t=  16\n",
            "2  *  9  \t=  18\n",
            "2  *  10  \t=  20\n",
            "\n",
            "3 's Table\n",
            "3  *  1  \t=  3\n",
            "3  *  2  \t=  6\n",
            "3  *  3  \t=  9\n",
            "3  *  4  \t=  12\n",
            "3  *  5  \t=  15\n",
            "3  *  6  \t=  18\n",
            "3  *  7  \t=  21\n",
            "3  *  8  \t=  24\n",
            "3  *  9  \t=  27\n",
            "3  *  10  \t=  30\n",
            "\n",
            "4 's Table\n",
            "4  *  1  \t=  4\n",
            "4  *  2  \t=  8\n",
            "4  *  3  \t=  12\n",
            "4  *  4  \t=  16\n",
            "4  *  5  \t=  20\n",
            "4  *  6  \t=  24\n",
            "4  *  7  \t=  28\n",
            "4  *  8  \t=  32\n",
            "4  *  9  \t=  36\n",
            "4  *  10  \t=  40\n",
            "\n",
            "5 's Table\n",
            "5  *  1  \t=  5\n",
            "5  *  2  \t=  10\n",
            "5  *  3  \t=  15\n",
            "5  *  4  \t=  20\n",
            "5  *  5  \t=  25\n",
            "5  *  6  \t=  30\n",
            "5  *  7  \t=  35\n",
            "5  *  8  \t=  40\n",
            "5  *  9  \t=  45\n",
            "5  *  10  \t=  50\n",
            "\n",
            "6 's Table\n",
            "6  *  1  \t=  6\n",
            "6  *  2  \t=  12\n",
            "6  *  3  \t=  18\n",
            "6  *  4  \t=  24\n",
            "6  *  5  \t=  30\n",
            "6  *  6  \t=  36\n",
            "6  *  7  \t=  42\n",
            "6  *  8  \t=  48\n",
            "6  *  9  \t=  54\n",
            "6  *  10  \t=  60\n",
            "\n",
            "7 's Table\n",
            "7  *  1  \t=  7\n",
            "7  *  2  \t=  14\n",
            "7  *  3  \t=  21\n",
            "7  *  4  \t=  28\n",
            "7  *  5  \t=  35\n",
            "7  *  6  \t=  42\n",
            "7  *  7  \t=  49\n",
            "7  *  8  \t=  56\n",
            "7  *  9  \t=  63\n",
            "7  *  10  \t=  70\n",
            "\n",
            "8 's Table\n",
            "8  *  1  \t=  8\n",
            "8  *  2  \t=  16\n",
            "8  *  3  \t=  24\n",
            "8  *  4  \t=  32\n",
            "8  *  5  \t=  40\n",
            "8  *  6  \t=  48\n",
            "8  *  7  \t=  56\n",
            "8  *  8  \t=  64\n",
            "8  *  9  \t=  72\n",
            "8  *  10  \t=  80\n",
            "\n",
            "9 's Table\n",
            "9  *  1  \t=  9\n",
            "9  *  2  \t=  18\n",
            "9  *  3  \t=  27\n",
            "9  *  4  \t=  36\n",
            "9  *  5  \t=  45\n",
            "9  *  6  \t=  54\n",
            "9  *  7  \t=  63\n",
            "9  *  8  \t=  72\n",
            "9  *  9  \t=  81\n",
            "9  *  10  \t=  90\n",
            "\n",
            "10 's Table\n",
            "10  *  1  \t=  10\n",
            "10  *  2  \t=  20\n",
            "10  *  3  \t=  30\n",
            "10  *  4  \t=  40\n",
            "10  *  5  \t=  50\n",
            "10  *  6  \t=  60\n",
            "10  *  7  \t=  70\n",
            "10  *  8  \t=  80\n",
            "10  *  9  \t=  90\n",
            "10  *  10  \t=  100\n",
            "\n"
          ]
        }
      ]
    },
    {
      "cell_type": "markdown",
      "source": [
        "Find factorial of a number using recursion"
      ],
      "metadata": {
        "id": "nqRWFv16cIgt"
      }
    },
    {
      "cell_type": "code",
      "source": [
        "def Factorial(a):\n",
        "  if(a == 1):\n",
        "    return 1\n",
        "  else:\n",
        "    return a * Factorial(a - 1)\n",
        "\n",
        "def Main():\n",
        "  a = int(input(\"Num : \"))\n",
        "  print(Factorial(a))\n",
        "\n",
        "Main()"
      ],
      "metadata": {
        "colab": {
          "base_uri": "https://localhost:8080/"
        },
        "id": "oSSrD2JzcMKF",
        "outputId": "48442ae4-9288-46cd-81df-acb8573bc24f"
      },
      "execution_count": null,
      "outputs": [
        {
          "output_type": "stream",
          "name": "stdout",
          "text": [
            "Num : 4\n",
            "24\n"
          ]
        }
      ]
    },
    {
      "cell_type": "markdown",
      "source": [
        "Create a dictonary of 5 different countries along with their capital cities"
      ],
      "metadata": {
        "id": "yZNRUjx6cOp9"
      }
    },
    {
      "cell_type": "code",
      "source": [
        "Counties = {\n",
        "    \"India\" : \"New Delhi\",\n",
        "    \"Qatar\" : \"Doha\",\n",
        "    \"Oman\" : \"Muscut\",\n",
        "    \"China\" : \"Beijing\",\n",
        "    \"Thailand\" : \"Bangkok\",\n",
        "}\n",
        "\n",
        "print(Counties)"
      ],
      "metadata": {
        "colab": {
          "base_uri": "https://localhost:8080/"
        },
        "id": "NL69tT0dcU9d",
        "outputId": "3b2f50ad-fb18-4bd3-a998-a1bac770daa7"
      },
      "execution_count": null,
      "outputs": [
        {
          "output_type": "stream",
          "name": "stdout",
          "text": [
            "{'India': 'New Delhi', 'Qatar': 'Doha', 'Oman': 'Muscut', 'China': 'Beijing', 'Thailand': 'Bangkok'}\n"
          ]
        }
      ]
    },
    {
      "cell_type": "markdown",
      "source": [
        "Create a list of 10 students and apply the methods append, extend, remove, del and pop"
      ],
      "metadata": {
        "id": "zXjcDK_McVYt"
      }
    },
    {
      "cell_type": "code",
      "source": [
        "students = [\"Vijeth\", \"Vikas\", \"Zain\", \"David\", \"Bob\", \"thilak\", \"john\", \"jane\"]\n",
        "print(\"Original list:\", students)\n",
        "print()\n",
        "\n",
        "students.append(\"Kevin\")\n",
        "print(\"After append:\", students)\n",
        "print()\n",
        "\n",
        "new_students = [\"Liam\", \"Mia\"]\n",
        "students.extend(new_students)\n",
        "print(\"After extend:\", students)\n",
        "print()\n",
        "\n",
        "students.remove(\"Bob\")\n",
        "print(\"After remove:\", students)\n",
        "print()\n",
        "\n",
        "del students[2]\n",
        "print(\"After del:\", students)\n",
        "print()\n",
        "\n",
        "popped_student = students.pop(2)\n",
        "print(\"After pop:\", students)\n",
        "print(\"Popped student:\", popped_student)"
      ],
      "metadata": {
        "colab": {
          "base_uri": "https://localhost:8080/"
        },
        "id": "_BPzWAAAciQ1",
        "outputId": "e5c54464-52c0-4db9-ee31-eacc4992c173"
      },
      "execution_count": null,
      "outputs": [
        {
          "output_type": "stream",
          "name": "stdout",
          "text": [
            "Original list: ['Vijeth', 'Vikas', 'Zain', 'David', 'Bob', 'thilak', 'john', 'jane']\n",
            "\n",
            "After append: ['Vijeth', 'Vikas', 'Zain', 'David', 'Bob', 'thilak', 'john', 'jane', 'Kevin']\n",
            "\n",
            "After extend: ['Vijeth', 'Vikas', 'Zain', 'David', 'Bob', 'thilak', 'john', 'jane', 'Kevin', 'Liam', 'Mia']\n",
            "\n",
            "After remove: ['Vijeth', 'Vikas', 'Zain', 'David', 'thilak', 'john', 'jane', 'Kevin', 'Liam', 'Mia']\n",
            "\n",
            "After del: ['Vijeth', 'Vikas', 'David', 'thilak', 'john', 'jane', 'Kevin', 'Liam', 'Mia']\n",
            "\n",
            "After pop: ['Vijeth', 'Vikas', 'thilak', 'john', 'jane', 'Kevin', 'Liam', 'Mia']\n",
            "Popped student: David\n"
          ]
        }
      ]
    },
    {
      "cell_type": "markdown",
      "source": [
        "Write a python program to find whether the given 2 strings are anagrams"
      ],
      "metadata": {
        "id": "KWVRrdWfhuLu"
      }
    },
    {
      "cell_type": "code",
      "source": [
        "def Anagram(a, b):\n",
        "  lista = list(a)\n",
        "  listb = list(b)\n",
        "\n",
        "  lista.sort()\n",
        "  listb.sort()\n",
        "\n",
        "  if(lista == listb):\n",
        "    print(\"The strings are a anagram!\")\n",
        "  else:\n",
        "    print(\"The strings are not a anagram!\")\n",
        "\n",
        "def main():\n",
        "  a = input(\"String 1 : \")\n",
        "  b = input(\"String 2 : \")\n",
        "\n",
        "  Anagram(a, b)\n",
        "\n",
        "main()"
      ],
      "metadata": {
        "colab": {
          "base_uri": "https://localhost:8080/"
        },
        "id": "_vTZuY5JiJy2",
        "outputId": "87a43fd3-b761-4078-d289-f89a7248d6c0"
      },
      "execution_count": null,
      "outputs": [
        {
          "output_type": "stream",
          "name": "stdout",
          "text": [
            "String 1 : hello\n",
            "String 2 : world\n",
            "The strings are not a anagram!\n"
          ]
        }
      ]
    },
    {
      "cell_type": "markdown",
      "source": [
        "Write a program to find armstrong number"
      ],
      "metadata": {
        "id": "Wd2fPzrEkdxO"
      }
    },
    {
      "cell_type": "code",
      "source": [
        "def Armstrong(n):\n",
        "  original_n = n\n",
        "  sum = 0\n",
        "  while(n != 0):\n",
        "    a = n % 10\n",
        "    sum = sum + (a**len(str(original_n)))\n",
        "    n = n // 10\n",
        "\n",
        "  if(sum == original_n):\n",
        "    print(\"This is an armstrong number\")\n",
        "  else:\n",
        "    print(\"This is not an armstrong number\")\n",
        "\n",
        "def main():\n",
        "  n = int(input(\"Num : \"))\n",
        "  Armstrong(n)\n",
        "\n",
        "main()"
      ],
      "metadata": {
        "colab": {
          "base_uri": "https://localhost:8080/"
        },
        "id": "qS--El9ykeqH",
        "outputId": "c7dc7f1a-080d-473a-846a-40e6c51a3810"
      },
      "execution_count": null,
      "outputs": [
        {
          "output_type": "stream",
          "name": "stdout",
          "text": [
            "Num : 92724\n",
            "This is not an armstrong number\n"
          ]
        }
      ]
    }
  ]
}